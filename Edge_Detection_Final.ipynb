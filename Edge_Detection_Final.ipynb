{
  "nbformat": 4,
  "nbformat_minor": 0,
  "metadata": {
    "colab": {
      "provenance": []
    },
    "kernelspec": {
      "name": "python3",
      "display_name": "Python 3"
    },
    "language_info": {
      "name": "python"
    }
  },
  "cells": [
    {
      "cell_type": "markdown",
      "source": [
        "MOUNT THE GOOGLE DRIVE AND LOAD REQUIRED PACKAGES"
      ],
      "metadata": {
        "id": "L_mofPBbJR5u"
      }
    },
    {
      "cell_type": "code",
      "execution_count": null,
      "metadata": {
        "id": "KyrAiwSIIw8X"
      },
      "outputs": [],
      "source": [
        "from google.colab import drive\n",
        "\n",
        "drive.mount('/content/gdrive')\n",
        "import numpy as np\n",
        "import cv2\n",
        "from matplotlib import pyplot as plt\n",
        "from matplotlib.offsetbox import BboxImage\n",
        "import math"
      ]
    },
    {
      "cell_type": "markdown",
      "source": [
        "LOAD THE IMAGE AND COMPLETE IMAGE ENHANCEMENT"
      ],
      "metadata": {
        "id": "qRqgCkeHJuJk"
      }
    },
    {
      "cell_type": "code",
      "source": [
        "# Load the image\n",
        "image = cv2.imread('/content/gdrive/MyDrive/Edge_Detection_test/HW_1323_27.jpg')\n",
        "\n",
        "# control brightness by 80\n",
        "alpha = 1.5\n",
        "beta = 70\n",
        "image2 = cv2.convertScaleAbs(image, alpha=alpha, beta=beta)\n",
        "\n",
        "# Remove noise using a Gaussian filter\n",
        "filtered_image = cv2.GaussianBlur(image2, (0, 0),2)\n",
        "\n",
        "#filtered image to grayscale\n",
        "img = cv2.cvtColor(filtered_image, cv2.COLOR_BGR2GRAY)\n",
        "\n",
        "#histogram equalization\n",
        "img_equ = cv2.equalizeHist(img)\n",
        "\n",
        "# Plot the output of the transformations above\n",
        "plt.figure(figsize=(32, 32))\n",
        "plt.subplot(131), plt.imshow(image)\n",
        "plt.title(\"Original Image\"), plt.xticks([]), plt.yticks([])\n",
        "plt.subplot(132),plt.imshow(img, cmap='gray')\n",
        "plt.title('Filtered Image'), plt.xticks([]), plt.yticks([])\n",
        "plt.subplot(133),plt.imshow(img_equ, cmap='gray')\n",
        "plt.title('Histogram Equalization'), plt.xticks([]), plt.yticks([])\n",
        "# plt.savefig('/content/gdrive/MyDrive/Edge_Detection_test/EdgesHW_1850_35_org_edges.jpg', bbox_inches='tight')\n",
        "plt.show()\n",
        "# cv2.imwrite('/content/gdrive/MyDrive/Edge_Detection_test/Edges/HW_1845_5.jpg', img_th3)"
      ],
      "metadata": {
        "id": "6SasuM4pJiIy"
      },
      "execution_count": null,
      "outputs": []
    },
    {
      "cell_type": "markdown",
      "source": [
        "TEST OUT DIFFERENT THRESHOLDING METHODS"
      ],
      "metadata": {
        "id": "0fe-Uoez4sQE"
      }
    },
    {
      "cell_type": "code",
      "source": [
        "img_th1 = cv2.adaptiveThreshold(img,255,cv2.ADAPTIVE_THRESH_MEAN_C,\\\n",
        "            cv2.THRESH_BINARY_INV,621, 22)\n",
        "ret1,img_th2 = cv2.threshold(img,187,255,cv2.THRESH_BINARY_INV)\n",
        "ret2,img_th3 = cv2.threshold(img,100,255,cv2.THRESH_BINARY_INV+cv2.THRESH_OTSU)\n",
        "\n",
        "plt.figure(figsize=(32, 32))\n",
        "plt.subplot(131), plt.imshow(img_th1, cmap='gray')\n",
        "plt.title(\"Adaptive Thresholding\", fontsize=36), plt.xticks([]), plt.yticks([])\n",
        "plt.subplot(132),plt.imshow(img_th2, cmap='gray')\n",
        "plt.title('Simple Thresholding', fontsize=36), plt.xticks([]), plt.yticks([])\n",
        "plt.subplot(133),plt.imshow(img_th3, cmap='gray')\n",
        "plt.title(\"Otsu's Thresholding\", fontsize=36), plt.xticks([]), plt.yticks([])\n",
        "plt.show()\n",
        "# cv2.imwrite('/content/gdrive/MyDrive/Edge_Detection_test/Edges/HW_1845_5.jpg', img_th3)\n",
        "# # cv2.imwrite('th3.jpg', th3)"
      ],
      "metadata": {
        "id": "eNfEnbaa4q-_"
      },
      "execution_count": null,
      "outputs": []
    },
    {
      "cell_type": "markdown",
      "source": [
        "USE THE CANNY EDGE DETECTOR TO DETECT EDGES ON THRESHOLD IMAGES"
      ],
      "metadata": {
        "id": "275rHp8ZD88r"
      }
    },
    {
      "cell_type": "code",
      "source": [
        "edges = cv2.Canny(img_th1, 10, 20, L2gradient=True)\n",
        "# cv2.imwrite('/content/gdrive/MyDrive/Edge_Detection_test/Edges/HW_1852_25_edges.jpg', img_th3)\n",
        "\n",
        "plt.figure(figsize=(20, 10))\n",
        "plt.subplot(121),plt.imshow(edges,cmap = 'gray')\n",
        "plt.title('Detected Edges', fontsize=28), plt.xticks([]), plt.yticks([])\n",
        "# plt.savefig('/content/gdrive/MyDrive/Edge_Detection_test/Edges/HW_1323_27_org_edges_2.jpg', bbox_inches='tight')\n",
        "plt.show()\n"
      ],
      "metadata": {
        "id": "t-uGpALn4MrU"
      },
      "execution_count": null,
      "outputs": []
    },
    {
      "cell_type": "markdown",
      "source": [
        "USE FINDCONTOURS TO SUPERIMPOSE PROMINENT EDGES ON ORIGINAL IMAGE"
      ],
      "metadata": {
        "id": "U3cMQuFZFOFE"
      }
    },
    {
      "cell_type": "code",
      "source": [
        "cdst = cv2.cvtColor(img_th3, cv2.COLOR_GRAY2BGR)\n",
        "\n",
        "#  Standard Hough Line Transform\n",
        "lines = cv2.HoughLines(img_th3, 1, np.pi / 180, 70, None, 0, 0)\n",
        "contours, hierarchy = cv2.findContours(edges, cv2.RETR_TREE, cv2.CHAIN_APPROX_NONE)\n",
        "\n",
        "areas = []\n",
        "lengths = []\n",
        "drawn_contours = []\n",
        "for i in range(0, len(contours)):\n",
        "  area = cv2.contourArea(contours[i])\n",
        "  areas.append(area)\n",
        "  length = cv2.arcLength(contours[i], closed=False)\n",
        "  lengths.append(length)\n",
        "\n",
        "  #Only draw edges of a certain length or area. Change depending on what works better\n",
        "  if length > 80.0:\n",
        "\n",
        "    cv2.drawContours(image,contours[i], -1, (255,0,0), 3,)\n",
        "    drawn_contours.append(contours[i])\n",
        "\n",
        "#Plot the images and edges\n",
        "plt.figure(figsize=(20, 10))\n",
        "plt.subplot(121),plt.imshow(image,cmap = 'gray')\n",
        "plt.title('Detected Crack on Original Image', fontsize=25), plt.xticks([]), plt.yticks([])\n",
        "# plt.savefig('/content/gdrive/MyDrive/Edge_Detection_test/Edges/HW_1843_11_org_contour.jpg', bbox_inches='tight')\n",
        "plt.show()\n"
      ],
      "metadata": {
        "id": "xXx8qMLUE_14"
      },
      "execution_count": null,
      "outputs": []
    }
  ]
}